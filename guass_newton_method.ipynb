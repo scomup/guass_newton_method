{
 "metadata": {
  "language_info": {
   "codemirror_mode": {
    "name": "ipython",
    "version": 3
   },
   "file_extension": ".py",
   "mimetype": "text/x-python",
   "name": "python",
   "nbconvert_exporter": "python",
   "pygments_lexer": "ipython3",
   "version": "3.6.9"
  },
  "orig_nbformat": 2,
  "kernelspec": {
   "name": "python369jvsc74a57bd031f2aee4e71d21fbe5cf8b01ff0e069b9275f58929596ceb00d14d90e3e16cd6",
   "display_name": "Python 3.6.9 64-bit"
  },
  "metadata": {
   "interpreter": {
    "hash": "31f2aee4e71d21fbe5cf8b01ff0e069b9275f58929596ceb00d14d90e3e16cd6"
   }
  }
 },
 "nbformat": 4,
 "nbformat_minor": 2,
 "cells": [
  {
   "source": [
    "### Solve Nonlinear Least-Squares Problem with the Gauss-Newton Methods.  \n",
    "#### what is linear/nonlinear?  \n",
    "* Linear: A polynomial of degree 1.  \n",
    "* Nonlinear: A function can't be expressed by the A polynomial of degree 1.   \n"
   ],
   "cell_type": "markdown",
   "metadata": {}
  },
  {
   "source": [
    "#### what is Least-Squares Problem?  \n",
    "f(x) is objective function, x is the parameter vector.  \n",
    "The Least-Squares Problem tries to find optimal parameters to minimize the overall cost. \n",
    "$$ \n",
    "cost = \\sum_{i=0}^{n}f(x)^2 \\quad\n",
    "$$\n",
    "\n"
   ],
   "cell_type": "markdown",
   "metadata": {}
  },
  {
   "source": [
    "#### what is Gauss-Newton Methods?  \n",
    "The Gauss–Newton Methods is used to solve nonlinear least-squares problems.  \n",
    "Unlike Newton's method,Gauss-Newton Methods is not necessary to calculate second derivatves.  \n",
    "which may difficult to compute in some cases.  \n",
    "Update x using iterative method. the update amont is dx. \n",
    "\n",
    "$$ \n",
    "\\Delta x = -H^{-1}g\n",
    "$$\n",
    "here: g is gradient vector; H is hessian matrix.\n",
    "$$ \n",
    "g = -J^Te\n",
    "$$\n",
    "$$ \n",
    "H \\approx J^TJ\n",
    "$$\n",
    "J is Jacobian matrix, e is residual vector. \n"
   ],
   "cell_type": "markdown",
   "metadata": {}
  },
  {
   "source": [
    "### 3d point-matching problems.  \n",
    "The objective function of 3d point-matching.  \n",
    "$$ \n",
    "f = T(x)(a) - b\n",
    "$$\n",
    "according to chain rule:  \n",
    "$$ \n",
    "J=\\frac{\\partial f}{\\partial T} \\frac{\\partial T}{\\partial x}\n",
    "$$ \n",
    "The df/dT:  \n",
    "$$\n",
    "\\frac{\\partial f}{\\partial T}=\\left|\n",
    "\\begin{matrix} \n",
    "a_1 & a_2 & a_3 & 1 & 0 & 0 & 0 & 0  & 0 & 0 & 0 & 0\\\\ \n",
    "0 & 0 & 0 & 0 & a_1 & a_2 & a_3 & 1 & 0 & 0 & 0 & 0\\\\ \n",
    "0 & 0 & 0 & 0 & 0 & 0 & 0 & 0  & a_1 & a_2 & a_3 & 1\n",
    "\\end{matrix}\n",
    "\\right|\n",
    "$$\n",
    "T is transform function, x is transform parameter vector. a and b are 2 different points.  \n",
    "x=[x_1, x_2, x_3, x_4, x_5, x_6] ;   \n",
    "x_1, x_2, x_3 are translation parameters  \n",
    "x_4, x_5, x_6 are rotation parameters, we use so3 parameters to represent rotation.    \n",
    "\n",
    "$$ \n",
    "T(x_1, x_2, x_3, x_4, x_5, x_6) = R(x_4, x_5, x_6)a + t(x_1, x_2, x_3)  \n",
    "$$ \n",
    "$$ \n",
    "J=\\frac{\\partial f}{\\partial T}, \n",
    "$$ \n",
    "The dT/dx:  \n",
    "$$\n",
    "\\frac{\\partial T}{\\partial x}=\\left|\n",
    "\\begin{matrix} \n",
    "    0 & 0& 0& 1&  0& 0& 0& 0&  0& 0& 0& 0\\\\\n",
    "    0 & 0& 0& 0&  0& 0& 0& 1&  0& 0& 0& 0\\\\\n",
    "    0 & 0& 0& 0&  0& 0& 0& 0&  0& 0& 0& 1\\\\\n",
    "    0 & 0& 0& 0&  0& 0&-1& 0&  0& 1& 0& 0\\\\\n",
    "    0 & 0& 1& 0&  0& 0& 0& 0& -1& 0& 0& 0\\\\\n",
    "    0 &-1& 0& 0&  1& 0& 0& 0&  0& 0& 0& 0\\\\\n",
    "\\end{matrix}\n",
    "\\right|\n",
    "$$"
   ],
   "cell_type": "markdown",
   "metadata": {}
  },
  {
   "cell_type": "code",
   "execution_count": null,
   "metadata": {},
   "outputs": [],
   "source": []
  }
 ]
}